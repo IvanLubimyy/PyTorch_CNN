{
  "nbformat": 4,
  "nbformat_minor": 0,
  "metadata": {
    "colab": {
      "name": "PyTorch_CNN.ipynb",
      "version": "0.3.2",
      "provenance": [],
      "collapsed_sections": [],
      "include_colab_link": true
    },
    "language_info": {
      "codemirror_mode": {
        "name": "ipython",
        "version": 3
      },
      "file_extension": ".py",
      "mimetype": "text/x-python",
      "name": "python",
      "nbconvert_exporter": "python",
      "pygments_lexer": "ipython3",
      "version": "3.7.1"
    },
    "kernelspec": {
      "name": "python3",
      "display_name": "Python 3"
    },
    "accelerator": "GPU"
  },
  "cells": [
    {
      "cell_type": "markdown",
      "metadata": {
        "id": "view-in-github",
        "colab_type": "text"
      },
      "source": [
        "<a href=\"https://colab.research.google.com/github/IvanLubimyy/PyTorch_CNN/blob/master/PyTorch_CNN.ipynb\" target=\"_parent\"><img src=\"https://colab.research.google.com/assets/colab-badge.svg\" alt=\"Open In Colab\"/></a>"
      ]
    },
    {
      "cell_type": "markdown",
      "metadata": {
        "id": "f1d0lvOTA5ES",
        "colab_type": "text"
      },
      "source": [
        "# Задание 3.2 - сверточные нейронные сети (CNNs) в PyTorch\n",
        "\n",
        "Это упражнение мы буде выполнять в Google Colab - https://colab.research.google.com/  \n",
        "Google Colab позволяет запускать код в notebook в облаке Google, где можно воспользоваться бесплатным GPU!  \n",
        "\n",
        "Авторы курса благодарят компанию Google и надеятся, что праздник не закончится.\n",
        "\n",
        "Туториал по настройке Google Colab:  \n",
        "https://medium.com/deep-learning-turkey/google-colab-free-gpu-tutorial-e113627b9f5d  \n",
        "(Keras инсталлировать не нужно, наш notebook сам установит PyTorch)\n"
      ]
    },
    {
      "cell_type": "code",
      "metadata": {
        "colab_type": "code",
        "id": "FcXBeP1O7cnY",
        "outputId": "025bdb9c-a8a0-4202-d324-591c11a5c1a9",
        "colab": {
          "base_uri": "https://localhost:8080/",
          "height": 601
        }
      },
      "source": [
        "# Intstall PyTorch and download data\n",
        "!pip3 install torch torchvision\n",
        "\n",
        "!wget -c http://ufldl.stanford.edu/housenumbers/train_32x32.mat http://ufldl.stanford.edu/housenumbers/test_32x32.mat"
      ],
      "execution_count": 0,
      "outputs": [
        {
          "output_type": "stream",
          "text": [
            "Requirement already satisfied: torch in /usr/local/lib/python3.6/dist-packages (1.0.1.post2)\n",
            "Requirement already satisfied: torchvision in /usr/local/lib/python3.6/dist-packages (0.2.2.post3)\n",
            "Requirement already satisfied: six in /usr/local/lib/python3.6/dist-packages (from torchvision) (1.12.0)\n",
            "Requirement already satisfied: numpy in /usr/local/lib/python3.6/dist-packages (from torchvision) (1.16.3)\n",
            "Requirement already satisfied: pillow>=4.1.1 in /usr/local/lib/python3.6/dist-packages (from torchvision) (4.3.0)\n",
            "Requirement already satisfied: olefile in /usr/local/lib/python3.6/dist-packages (from pillow>=4.1.1->torchvision) (0.46)\n",
            "--2019-05-01 16:20:18--  http://ufldl.stanford.edu/housenumbers/train_32x32.mat\n",
            "Resolving ufldl.stanford.edu (ufldl.stanford.edu)... 171.64.68.10\n",
            "Connecting to ufldl.stanford.edu (ufldl.stanford.edu)|171.64.68.10|:80... connected.\n",
            "HTTP request sent, awaiting response... 200 OK\n",
            "Length: 182040794 (174M) [text/plain]\n",
            "Saving to: ‘train_32x32.mat’\n",
            "\n",
            "train_32x32.mat     100%[===================>] 173.61M  26.6MB/s    in 8.6s    \n",
            "\n",
            "2019-05-01 16:20:27 (20.3 MB/s) - ‘train_32x32.mat’ saved [182040794/182040794]\n",
            "\n",
            "--2019-05-01 16:20:27--  http://ufldl.stanford.edu/housenumbers/test_32x32.mat\n",
            "Reusing existing connection to ufldl.stanford.edu:80.\n",
            "HTTP request sent, awaiting response... 200 OK\n",
            "Length: 64275384 (61M) [text/plain]\n",
            "Saving to: ‘test_32x32.mat’\n",
            "\n",
            "test_32x32.mat      100%[===================>]  61.30M  23.7MB/s    in 2.6s    \n",
            "\n",
            "2019-05-01 16:20:30 (23.7 MB/s) - ‘test_32x32.mat’ saved [64275384/64275384]\n",
            "\n",
            "FINISHED --2019-05-01 16:20:30--\n",
            "Total wall clock time: 12s\n",
            "Downloaded: 2 files, 235M in 11s (21.1 MB/s)\n"
          ],
          "name": "stdout"
        }
      ]
    },
    {
      "cell_type": "code",
      "metadata": {
        "colab_type": "code",
        "id": "-afwWw-Q85vD",
        "colab": {}
      },
      "source": [
        "from collections import namedtuple\n",
        "\n",
        "import matplotlib.pyplot as plt\n",
        "import numpy as np\n",
        "import PIL\n",
        "import torch\n",
        "import torch.nn as nn\n",
        "import torch.optim as optim\n",
        "import torchvision.datasets as dset\n",
        "from torch.utils.data.sampler import SubsetRandomSampler\n",
        "\n",
        "from torchvision import transforms"
      ],
      "execution_count": 0,
      "outputs": []
    },
    {
      "cell_type": "code",
      "metadata": {
        "colab_type": "code",
        "id": "NNU-OD9O9ltP",
        "colab": {}
      },
      "source": [
        "device = torch.device(\"cuda:0\") # Let's make sure GPU is available!"
      ],
      "execution_count": 0,
      "outputs": []
    },
    {
      "cell_type": "markdown",
      "metadata": {
        "id": "QgYOM3lIA5FG",
        "colab_type": "text"
      },
      "source": [
        "# Загружаем данные"
      ]
    },
    {
      "cell_type": "code",
      "metadata": {
        "colab_type": "code",
        "id": "YAvkoRx-9FsP",
        "colab": {}
      },
      "source": [
        "# First, lets load the dataset\n",
        "data_train = dset.SVHN('./', \n",
        "                       transform=transforms.Compose([\n",
        "                           transforms.ToTensor(),\n",
        "                           transforms.Normalize(mean=[0.43,0.44,0.47],\n",
        "                                               std=[0.20,0.20,0.20])                           \n",
        "                       ])\n",
        "                      )\n",
        "data_test = dset.SVHN('./', split='test', transform=transforms.Compose([\n",
        "                           transforms.ToTensor(),\n",
        "                           transforms.Normalize(mean=[0.43,0.44,0.47],\n",
        "                                               std=[0.20,0.20,0.20])                           \n",
        "                       ]))"
      ],
      "execution_count": 0,
      "outputs": []
    },
    {
      "cell_type": "markdown",
      "metadata": {
        "id": "2F7PWeHGA5FT",
        "colab_type": "text"
      },
      "source": [
        "Разделяем данные на training и validation.\n",
        "\n",
        "На всякий случай для подробностей - https://pytorch.org/tutorials/beginner/data_loading_tutorial.html"
      ]
    },
    {
      "cell_type": "code",
      "metadata": {
        "colab_type": "code",
        "id": "YRnr8CPg7Hli",
        "colab": {}
      },
      "source": [
        "batch_size = 64\n",
        "\n",
        "data_size = data_train.data.shape[0]\n",
        "validation_split = .2\n",
        "split = int(np.floor(validation_split * data_size))\n",
        "indices = list(range(data_size))\n",
        "np.random.shuffle(indices)\n",
        "\n",
        "train_indices, val_indices = indices[split:], indices[:split]\n",
        "\n",
        "train_sampler = SubsetRandomSampler(train_indices)\n",
        "val_sampler = SubsetRandomSampler(val_indices)\n",
        "\n",
        "train_loader = torch.utils.data.DataLoader(data_train, batch_size=batch_size, \n",
        "                                           sampler=train_sampler)\n",
        "val_loader = torch.utils.data.DataLoader(data_train, batch_size=batch_size,\n",
        "                                         sampler=val_sampler)"
      ],
      "execution_count": 0,
      "outputs": []
    },
    {
      "cell_type": "code",
      "metadata": {
        "colab_type": "code",
        "id": "LyYvt-T67PBG",
        "colab": {}
      },
      "source": [
        "# We'll use a special helper module to shape it into a flat tensor\n",
        "class Flattener(nn.Module):\n",
        "    def forward(self, x):\n",
        "        batch_size, *_ = x.shape\n",
        "        return x.view(batch_size, -1)"
      ],
      "execution_count": 0,
      "outputs": []
    },
    {
      "cell_type": "markdown",
      "metadata": {
        "id": "JXR04_HUA5Fs",
        "colab_type": "text"
      },
      "source": [
        "Создадим простейшую сеть с новыми слоями:  \n",
        "Convolutional - `nn.Conv2d`  \n",
        "MaxPool - `nn.MaxPool2d`"
      ]
    },
    {
      "cell_type": "code",
      "metadata": {
        "colab_type": "code",
        "id": "w9SFVGZP7SQd",
        "colab": {}
      },
      "source": [
        "nn_model = nn.Sequential(\n",
        "            nn.Conv2d(3, 64, 3, padding=1),\n",
        "            nn.ReLU(inplace=True),\n",
        "            nn.MaxPool2d(4),\n",
        "            nn.Conv2d(64, 64, 3, padding=1),\n",
        "            nn.ReLU(inplace=True),\n",
        "            nn.MaxPool2d(4),    \n",
        "            Flattener(),\n",
        "            nn.Linear(64*2*2, 10)\n",
        "          )\n",
        "\n",
        "nn_model.type(torch.cuda.FloatTensor)\n",
        "nn_model.to(device)\n",
        "\n",
        "loss = nn.CrossEntropyLoss().type(torch.cuda.FloatTensor)\n",
        "optimizer = optim.SGD(nn_model.parameters(), lr=1e-1, weight_decay=1e-4)"
      ],
      "execution_count": 0,
      "outputs": []
    },
    {
      "cell_type": "markdown",
      "metadata": {
        "id": "sNx4KVxqA5F_",
        "colab_type": "text"
      },
      "source": [
        "Восстановите функцию `compute_accuracy` из прошлого задания.  \n",
        "Единственное отличие в новом - она должна передать данные на GPU прежде чем прогонять через модель. Сделайте это так же, как это делает функция `train_model`"
      ]
    },
    {
      "cell_type": "code",
      "metadata": {
        "colab_type": "code",
        "id": "2ek3KVQK7hJ6",
        "outputId": "695f512a-2605-411d-f5fd-e5ccb4db7d44",
        "colab": {
          "base_uri": "https://localhost:8080/",
          "height": 111
        }
      },
      "source": [
        "def train_model(model, train_loader, val_loader, loss, optimizer, num_epochs,scheduler=None,annel_k=0.2, annel_epoch=1000):    \n",
        "    loss_history = []\n",
        "    train_history = []\n",
        "    val_history = []\n",
        "    for epoch in range(num_epochs):\n",
        "        #torch.optim.scheduler.step()\n",
        "        if epoch % annel_epoch == 0 :\n",
        "          for g in optimizer.param_groups:\n",
        "            g['lr'] = g['lr']*annel_k\n",
        "        model.train() # Enter train mode\n",
        "        \n",
        "        loss_accum = 0\n",
        "        correct_samples = 0\n",
        "        total_samples = 0\n",
        "        for i_step, (x, y) in enumerate(train_loader):\n",
        "            x_gpu = x.to(device)\n",
        "            y_gpu = y.to(device)\n",
        "            prediction = model(x_gpu)    \n",
        "            loss_value = loss(prediction, y_gpu)\n",
        "            optimizer.zero_grad()\n",
        "            loss_value.backward()\n",
        "            if scheduler is not None:\n",
        "              scheduler.step\n",
        "            else:\n",
        "              optimizer.step()\n",
        "            \n",
        "            _, indices = torch.max(prediction, 1)\n",
        "            correct_samples += torch.sum(indices == y_gpu)\n",
        "            total_samples += y.shape[0]\n",
        "            \n",
        "            loss_accum += loss_value\n",
        "\n",
        "        ave_loss = loss_accum / i_step\n",
        "        train_accuracy = float(correct_samples) / total_samples\n",
        "        val_accuracy = compute_accuracy(model, val_loader)\n",
        "        \n",
        "        loss_history.append(float(ave_loss))\n",
        "        train_history.append(train_accuracy)\n",
        "        val_history.append(val_accuracy)\n",
        "        \n",
        "        print(\"Average loss: %f, Train accuracy: %f, Val accuracy: %f\" % (ave_loss, train_accuracy, val_accuracy))\n",
        "    #print(\"Average loss: %f, Train accuracy: %f, Val accuracy: %f\" % (ave_loss, train_accuracy, val_accuracy))\n",
        "            \n",
        "    return loss_history, train_history, val_history\n",
        "        \n",
        "def compute_accuracy(model, loader):\n",
        "    \"\"\"\n",
        "    Computes accuracy on the dataset wrapped in a loader\n",
        "    \n",
        "    Returns: accuracy as a float value between 0 and 1\n",
        "    \"\"\"\n",
        "    model.eval() # Evaluation mode\n",
        "    # TODO: Copy implementation from previous assignment\n",
        "    # Don't forget to move the data to device before running it through the model!\n",
        "    correct_samples = 0\n",
        "    total_samples = 0\n",
        "    for i_step, (x, y) in enumerate(loader):\n",
        "      x_gpu = x.to(device)\n",
        "      y_gpu = y.to(device)\n",
        "      pred = model(x_gpu)\n",
        "      \n",
        "      _, indices = torch.max(pred, 1)\n",
        "      correct_samples += torch.sum(indices == y_gpu)\n",
        "      total_samples += y.shape[0]\n",
        " \n",
        "    accuracy = float(correct_samples) / total_samples\n",
        "    \n",
        "    return accuracy\n",
        "  \n",
        "loss_history, train_history, val_history = train_model(nn_model, train_loader, val_loader, loss, optimizer, 5)"
      ],
      "execution_count": 0,
      "outputs": [
        {
          "output_type": "stream",
          "text": [
            "Average loss: 2.075923, Train accuracy: 0.274204, Val accuracy: 0.434783\n",
            "Average loss: 1.353458, Train accuracy: 0.562946, Val accuracy: 0.657703\n",
            "Average loss: 0.933033, Train accuracy: 0.716172, Val accuracy: 0.727732\n",
            "Average loss: 0.754563, Train accuracy: 0.775501, Val accuracy: 0.759675\n",
            "Average loss: 0.664802, Train accuracy: 0.805754, Val accuracy: 0.797761\n"
          ],
          "name": "stdout"
        }
      ]
    },
    {
      "cell_type": "markdown",
      "metadata": {
        "colab_type": "text",
        "id": "6a-3a1ZFGEw_"
      },
      "source": [
        "# Аугментация данных (Data augmentation)\n",
        "\n",
        "В работе с изображениями одним из особенно важных методов является аугментация данных - то есть, генерация дополнительных данных для тренировки на основе изначальных.   \n",
        "Таким образом, мы получаем возможность \"увеличить\" набор данных для тренировки, что ведет к лучшей работе сети.\n",
        "Важно, чтобы аугментированные данные были похожи на те, которые могут встретиться в реальной жизни, иначе польза от аугментаций уменьшается и может ухудшить работу сети.\n",
        "\n",
        "С PyTorch идут несколько таких алгоритмов, называемых `transforms`. Более подробно про них можно прочитать тут -\n",
        "https://pytorch.org/tutorials/beginner/data_loading_tutorial.html#transforms\n",
        "\n",
        "Ниже мы используем следующие алгоритмы генерации:\n",
        "- ColorJitter - случайное изменение цвета\n",
        "- RandomHorizontalFlip - горизонтальное отражение с вероятностью 50%\n",
        "- RandomVerticalFlip - вертикальное отражение с вероятностью 50%\n",
        "- RandomRotation - случайный поворот"
      ]
    },
    {
      "cell_type": "code",
      "metadata": {
        "colab_type": "code",
        "id": "jCWMUWmr7t5g",
        "colab": {}
      },
      "source": [
        "tfs = transforms.Compose([\n",
        "    transforms.ColorJitter(hue=.50, saturation=.50),\n",
        "    transforms.RandomHorizontalFlip(),\n",
        "    transforms.RandomVerticalFlip(),\n",
        "    transforms.RandomRotation(50, resample=PIL.Image.BILINEAR)\n",
        "])\n",
        "#    transforms.ToTensor(),\n",
        "#    transforms.Normalize(mean=[0.43,0.44,0.47],\n",
        "#                       std=[0.20,0.20,0.20])                           \n",
        "\n",
        "# Create augmented train dataset\n",
        "data_aug_train = dset.SVHN('./', \n",
        "                       transform=tfs\n",
        "                      )\n",
        "\n",
        "train_aug_loader = torch.utils.data.DataLoader(data_aug_train, batch_size=batch_size, \n",
        "                                           sampler=train_sampler)"
      ],
      "execution_count": 0,
      "outputs": []
    },
    {
      "cell_type": "markdown",
      "metadata": {
        "id": "_FozZ-m8A5Gj",
        "colab_type": "text"
      },
      "source": [
        "Визуализируем результаты агментации (вообще, смотреть на сгенерированные данные всегда очень полезно)."
      ]
    },
    {
      "cell_type": "code",
      "metadata": {
        "colab_type": "code",
        "id": "YlJJEro1KZ45",
        "outputId": "14883266-ed1d-4748-abda-5bd8c88c5011",
        "colab": {
          "base_uri": "https://localhost:8080/",
          "height": 212
        }
      },
      "source": [
        "# TODO: Visualize some augmented images!\n",
        "# hint: you can create new datasets and loaders to accomplish this\n",
        "\n",
        "# Based on the visualizations, should we keep all the augmentations?\n",
        "\n",
        "tfs = transforms.Compose([\n",
        "    transforms.ColorJitter(hue=.20, saturation=.20),\n",
        "    transforms.RandomHorizontalFlip(),\n",
        "    transforms.RandomVerticalFlip(),\n",
        "    transforms.RandomRotation(10, resample=PIL.Image.BILINEAR),\n",
        "])\n",
        "\n",
        "data_aug_vis = dset.SVHN('./', \n",
        "                       transform=tfs\n",
        "                      )\n",
        "\n",
        "plt.figure(figsize=(30, 3))\n",
        "\n",
        "for i, (x, y) in enumerate(data_aug_vis):\n",
        "    if i == 10:\n",
        "        break\n",
        "    plt.subplot(1, 10, i+1)\n",
        "    plt.grid(False)\n",
        "    plt.imshow(x)\n",
        "    plt.axis('off')"
      ],
      "execution_count": 0,
      "outputs": [
        {
          "output_type": "display_data",
          "data": {
            "image/png": "[encoded data removed]",
            "text/plain": [
              "<Figure size 2160x216 with 10 Axes>"
            ]
          },
          "metadata": {
            "tags": []
          }
        }
      ]
    },
    {
      "cell_type": "markdown",
      "metadata": {
        "colab_type": "text",
        "id": "o2LrmsYHoguB"
      },
      "source": [
        "Все ли агментации одинаково полезны на этом наборе данных? Могут ли быть среди них те, которые собьют модель с толку?\n",
        "\n",
        "Выберите из них только корректные"
      ]
    },
    {
      "cell_type": "code",
      "metadata": {
        "colab_type": "code",
        "id": "evro9ksXGs9u",
        "outputId": "6428130a-0f12-41fd-c463-50880c065ce6",
        "colab": {
          "base_uri": "https://localhost:8080/",
          "height": 212
        }
      },
      "source": [
        "# TODO: \n",
        "tfs = transforms.Compose([\n",
        "    # TODO: Add good augmentations\n",
        "    transforms.ColorJitter(hue=.50, saturation=.50),\n",
        "    transforms.RandomRotation(50, resample=PIL.Image.BILINEAR)\n",
        "   # transforms.ToTensor()\n",
        "  #  transforms.Normalize(mean=[0.43,0.44,0.47],\n",
        "   #                    std=[0.20,0.20,0.20])                           \n",
        "])\n",
        "data_aug_vis = dset.SVHN('./', \n",
        "                       transform=tfs\n",
        "                      )\n",
        "\n",
        "plt.figure(figsize=(30, 3))\n",
        "\n",
        "for i, (x, y) in enumerate(data_aug_vis):\n",
        "    if i == 10:\n",
        "        break\n",
        "    plt.subplot(1, 10, i+1)\n",
        "    plt.grid(False)\n",
        "    plt.imshow(x)\n",
        "    plt.axis('off')\n",
        "    \n",
        "# TODO create new instances of loaders with the augmentations you chose\n",
        "train_aug_loader = None"
      ],
      "execution_count": 0,
      "outputs": [
        {
          "output_type": "display_data",
          "data": {
            "image/png": "[encoded data removed]",
            "text/plain": [
              "<Figure size 2160x216 with 10 Axes>"
            ]
          },
          "metadata": {
            "tags": []
          }
        }
      ]
    },
    {
      "cell_type": "code",
      "metadata": {
        "colab_type": "code",
        "id": "PeO6Zw0DHqPR",
        "outputId": "5903f66e-6ac7-4621-b5eb-3c991b79343b",
        "colab": {
          "base_uri": "https://localhost:8080/",
          "height": 111
        }
      },
      "source": [
        "# Finally, let's train with augmentations!\n",
        "\n",
        "# Note we shouldn't use augmentations on validation\n",
        "\n",
        "loss_history, train_history, val_history = train_model(nn_model, train_aug_loader, val_loader, loss, optimizer, 5)"
      ],
      "execution_count": 0,
      "outputs": [
        {
          "output_type": "stream",
          "text": [
            "Average loss: 0.817876, Train accuracy: 0.741460, Val accuracy: 0.738653\n",
            "Average loss: 0.819270, Train accuracy: 0.739259, Val accuracy: 0.738653\n",
            "Average loss: 0.824620, Train accuracy: 0.738730, Val accuracy: 0.738653\n",
            "Average loss: 0.821014, Train accuracy: 0.740675, Val accuracy: 0.738653\n",
            "Average loss: 0.819647, Train accuracy: 0.739139, Val accuracy: 0.738653\n"
          ],
          "name": "stdout"
        }
      ]
    },
    {
      "cell_type": "markdown",
      "metadata": {
        "colab_type": "text",
        "id": "r0bcioK6JBDK"
      },
      "source": [
        "# LeNet\n",
        "Попробуем имплементировать классическую архитектуру сверточной нейронной сети, предложенную Яном ЛеКуном в 1998 году. В свое время она достигла впечатляющих результатов на MNIST, посмотрим как она справится с SVHN?\n",
        "Она описана в статье [\"Gradient Based Learning Applied to Document Recognition\"](http://yann.lecun.com/exdb/publis/pdf/lecun-01a.pdf), попробуйте прочитать ключевые части и имплементировать предложенную архитетуру на PyTorch.\n",
        "\n",
        "Если в статье не очень понятно, можно просто погуглить LeNet и разобраться в деталях :)"
      ]
    },
    {
      "cell_type": "code",
      "metadata": {
        "id": "qwx6BdDrQxqD",
        "colab_type": "code",
        "colab": {}
      },
      "source": [
        "tfs = transforms.Compose([\n",
        "    # TODO: Add good augmentations\n",
        "    transforms.ColorJitter(hue=.50, saturation=.50),\n",
        "    transforms.RandomRotation(50, resample=PIL.Image.BILINEAR),\n",
        "    transforms.Resize((32, 32)),\n",
        "    transforms.ToTensor(),\n",
        "    transforms.Normalize(mean=[0.43,0.44,0.47],\n",
        "                        std=[0.20,0.20,0.20])                           \n",
        "])\n",
        "data_aug_train = dset.SVHN('./', \n",
        "                       transform=tfs\n",
        "                      )\n",
        "train_aug_loader = torch.utils.data.DataLoader(data_aug_train, batch_size=batch_size, \n",
        "                                           sampler=train_sampler)"
      ],
      "execution_count": 0,
      "outputs": []
    },
    {
      "cell_type": "code",
      "metadata": {
        "colab_type": "code",
        "id": "ieEzZUglJAUB",
        "colab": {}
      },
      "source": [
        "# TODO: Implement LeNet-like architecture for SVHN task\n",
        "''''  Input - 3x32x32\n",
        "    C1 - 6@28x28 (5x5 kernel)\n",
        "    tanh\n",
        "    S2 - 6@14x14 (2x2 kernel, stride 2) Subsampling\n",
        "    C3 - 16@10x10 (5x5 kernel, complicated shit)\n",
        "    tanh\n",
        "    S4 - 16@5x5 (2x2 kernel, stride 2) Subsampling\n",
        "    C5 - 120@1x1 (5x5 kernel)\n",
        "    F6 - 84\n",
        "    tanh\n",
        "    F7 - 10 (Output) '''\n",
        "lenet_model = nn.Sequential(\n",
        "             nn.Conv2d(3, 6, kernel_size=(5, 5)),\n",
        "             nn.ReLU(),\n",
        "             nn.MaxPool2d(kernel_size=(2, 2), stride=2),\n",
        "             nn.Conv2d(6, 16, kernel_size=(5, 5)),\n",
        "             nn.ReLU(),\n",
        "             nn.MaxPool2d(kernel_size=(2, 2), stride=2),\n",
        "             Flattener(),\n",
        "             nn.Linear(16*5*5, 120), \n",
        "             nn.ReLU(), \n",
        "             nn.Linear(120, 84),\n",
        "             nn.ReLU(),\n",
        "             nn.Linear(84, 10),\n",
        "             nn.LogSoftmax(dim=-1)\n",
        "          )\n",
        "\n",
        "lenet_model.type(torch.cuda.FloatTensor)\n",
        "lenet_model.to(device)\n",
        "\n",
        "loss = nn.CrossEntropyLoss().type(torch.cuda.FloatTensor)\n",
        "optimizer = optim.SGD(lenet_model.parameters(), lr=1e-1, weight_decay=1e-4)"
      ],
      "execution_count": 0,
      "outputs": []
    },
    {
      "cell_type": "code",
      "metadata": {
        "colab_type": "code",
        "id": "WMmaPfdeKk9H",
        "outputId": "14c30984-55d6-411d-863e-bd000822a8bb",
        "colab": {
          "base_uri": "https://localhost:8080/",
          "height": 205
        }
      },
      "source": [
        "# Let's train it!\n",
        "loss_history, train_history, val_history = train_model(lenet_model, train_aug_loader, val_loader, loss, optimizer, 10)"
      ],
      "execution_count": 0,
      "outputs": [
        {
          "output_type": "stream",
          "text": [
            "Average loss: 1.754423, Train accuracy: 0.392929, Val accuracy: 0.711078\n",
            "Average loss: 0.824078, Train accuracy: 0.745248, Val accuracy: 0.775920\n",
            "Average loss: 0.679137, Train accuracy: 0.791984, Val accuracy: 0.786704\n",
            "Average loss: 0.612637, Train accuracy: 0.812698, Val accuracy: 0.825063\n",
            "Average loss: 0.575621, Train accuracy: 0.823875, Val accuracy: 0.825473\n",
            "Average loss: 0.541423, Train accuracy: 0.834642, Val accuracy: 0.835984\n",
            "Average loss: 0.525339, Train accuracy: 0.839044, Val accuracy: 0.843560\n",
            "Average loss: 0.510256, Train accuracy: 0.844538, Val accuracy: 0.838100\n",
            "Average loss: 0.490716, Train accuracy: 0.851380, Val accuracy: 0.838168\n",
            "Average loss: 0.480394, Train accuracy: 0.852984, Val accuracy: 0.848406\n"
          ],
          "name": "stdout"
        }
      ]
    },
    {
      "cell_type": "markdown",
      "metadata": {
        "colab_type": "text",
        "id": "u_O9qiYySvuj"
      },
      "source": [
        "# Подбор гиперпараметров"
      ]
    },
    {
      "cell_type": "code",
      "metadata": {
        "colab_type": "code",
        "id": "i6mhfdQ9K-N3",
        "outputId": "14edce9e-6608-4499-e667-1be1e0e00e3b",
        "colab": {
          "base_uri": "https://localhost:8080/",
          "height": 426
        }
      },
      "source": [
        "# The key hyperparameters we're going to tune are learning speed, annealing rate and regularization\n",
        "# We also encourage you to try different optimizers as well\n",
        "%%time\n",
        "Hyperparams = namedtuple(\"Hyperparams\", ['learning_rate', 'anneal_epoch', 'reg'])\n",
        "RunResult = namedtuple(\"RunResult\", ['model', 'train_history', 'val_history', 'final_val_accuracy'])\n",
        "\n",
        "learning_rates = [  1e-4, 1, 1e-1, 1e-2, 1e-3]\n",
        "anneal_coeff = 0.2\n",
        "anneal_epochs = [1, 5, 10]\n",
        "regs = [1e-3, 1e-4, 1e-5, 1e-7]\n",
        "\n",
        "batch_size = 64\n",
        "epoch_num = 10\n",
        "\n",
        "# Record all the runs here\n",
        "# Key should be Hyperparams and values should be RunResult\n",
        "run_record = {} \n",
        "\n",
        "# Use grid search or random search and record all runs in run_record dictionnary \n",
        "# Important: perform search in logarithmic space!\n",
        "for i1 in range(len(learning_rates)):\n",
        "  for i2 in range(len(anneal_epochs)):\n",
        "    for i3 in range(len(regs)):\n",
        "    \n",
        "      le, an, r = learning_rates[i1], anneal_epochs[i2], regs[i3]\n",
        "      name_hyp=\"Lr:\"+str(learning_rates[i1])+\", Anneal_epochs:\"+str(anneal_epochs[i2])+\", Reg str:\"+str(regs[i3])\n",
        "      \n",
        "      optimizer = optim.SGD(lenet_model.parameters(), lr=le, weight_decay=r)\n",
        "      \n",
        "      #scheduler = optim.lr_scheduler.StepLR(optimizer, step_size=an, gamma=anneal_coeff)\n",
        "      print(\"Hyperparams: %s\" % (name_hyp))\n",
        "      _, train_history, val_history = train_model(lenet_model, train_aug_loader, val_loader, loss, optimizer, 10, annel_k=anneal_coeff, annel_epoch=an)\n",
        "      print(\"--------\")\n",
        "      run_record[name_hyp]=RunResult(\"lenet_model\", train_history, val_history, val_history[-1])\n",
        "     \n",
        "      # TODO: Your code here!"
      ],
      "execution_count": 0,
      "outputs": [
        {
          "output_type": "error",
          "ename": "NameError",
          "evalue": "ignored",
          "traceback": [
            "\u001b[0;31m---------------------------------------------------------------------------\u001b[0m",
            "\u001b[0;31mNameError\u001b[0m                                 Traceback (most recent call last)",
            "\u001b[0;32m<ipython-input-1-ad3b9c3e1f89>\u001b[0m in \u001b[0;36m<module>\u001b[0;34m()\u001b[0m\n\u001b[0;32m----> 1\u001b[0;31m \u001b[0mget_ipython\u001b[0m\u001b[0;34m(\u001b[0m\u001b[0;34m)\u001b[0m\u001b[0;34m.\u001b[0m\u001b[0mrun_cell_magic\u001b[0m\u001b[0;34m(\u001b[0m\u001b[0;34m'time'\u001b[0m\u001b[0;34m,\u001b[0m \u001b[0;34m''\u001b[0m\u001b[0;34m,\u001b[0m \u001b[0;34m'Hyperparams = namedtuple(\"Hyperparams\", [\\'learning_rate\\', \\'anneal_epoch\\', \\'reg\\'])\\nRunResult = namedtuple(\"RunResult\", [\\'model\\', \\'train_history\\', \\'val_history\\', \\'final_val_accuracy\\'])\\n\\nlearning_rates = [  1e-4, 1, 1e-1, 1e-2, 1e-3]\\nanneal_coeff = 0.2\\nanneal_epochs = [1, 5, 10]\\nregs = [1e-3, 1e-4, 1e-5, 1e-7]\\n\\nbatch_size = 64\\nepoch_num = 10\\n\\n# Record all the runs here\\n# Key should be Hyperparams and values should be RunResult\\nrun_record = {} \\n\\n# Use grid search or random search and record all runs in run_record dictionnary \\n# Important: perform search in logarithmic space!\\nfor i1 in range(len(learning_rates)):\\n  for i2 in range(len(anneal_epochs)):\\n    for i3 in range(len(regs)):\\n    \\n      le, an, r = learning_rates[i1], anneal_epochs[i2], regs[i3]\\n      name_hyp=\"Lr:\"+str(learning_rates[i1])+\", Anneal_epochs:\"+str(anneal_epochs[i2])+\", Reg str:\"+str(regs[i3])\\n      \\n      optimizer = optim.SGD(lenet_model.parameters(), lr=le, weight_decay=r)\\n      \\n      #scheduler = optim.lr_scheduler.StepLR(optimizer, step_size=an, gamma=anneal_coeff)\\n      print(\"Hyperparams: %s\" % (name_hyp))\\n      _, train_history, val_history = train_model(lenet_model, train_aug_loader, val_loader, loss, optimizer, 10, annel_k=anneal_coeff, annel_epoch=an)\\n      print(\"--------\")\\n     ...\n\u001b[0m",
            "\u001b[0;32m/usr/local/lib/python3.6/dist-packages/IPython/core/interactiveshell.py\u001b[0m in \u001b[0;36mrun_cell_magic\u001b[0;34m(self, magic_name, line, cell)\u001b[0m\n\u001b[1;32m   2115\u001b[0m             \u001b[0mmagic_arg_s\u001b[0m \u001b[0;34m=\u001b[0m \u001b[0mself\u001b[0m\u001b[0;34m.\u001b[0m\u001b[0mvar_expand\u001b[0m\u001b[0;34m(\u001b[0m\u001b[0mline\u001b[0m\u001b[0;34m,\u001b[0m \u001b[0mstack_depth\u001b[0m\u001b[0;34m)\u001b[0m\u001b[0;34m\u001b[0m\u001b[0;34m\u001b[0m\u001b[0m\n\u001b[1;32m   2116\u001b[0m             \u001b[0;32mwith\u001b[0m \u001b[0mself\u001b[0m\u001b[0;34m.\u001b[0m\u001b[0mbuiltin_trap\u001b[0m\u001b[0;34m:\u001b[0m\u001b[0;34m\u001b[0m\u001b[0;34m\u001b[0m\u001b[0m\n\u001b[0;32m-> 2117\u001b[0;31m                 \u001b[0mresult\u001b[0m \u001b[0;34m=\u001b[0m \u001b[0mfn\u001b[0m\u001b[0;34m(\u001b[0m\u001b[0mmagic_arg_s\u001b[0m\u001b[0;34m,\u001b[0m \u001b[0mcell\u001b[0m\u001b[0;34m)\u001b[0m\u001b[0;34m\u001b[0m\u001b[0;34m\u001b[0m\u001b[0m\n\u001b[0m\u001b[1;32m   2118\u001b[0m             \u001b[0;32mreturn\u001b[0m \u001b[0mresult\u001b[0m\u001b[0;34m\u001b[0m\u001b[0;34m\u001b[0m\u001b[0m\n\u001b[1;32m   2119\u001b[0m \u001b[0;34m\u001b[0m\u001b[0m\n",
            "\u001b[0;32m</usr/local/lib/python3.6/dist-packages/decorator.py:decorator-gen-60>\u001b[0m in \u001b[0;36mtime\u001b[0;34m(self, line, cell, local_ns)\u001b[0m\n",
            "\u001b[0;32m/usr/local/lib/python3.6/dist-packages/IPython/core/magic.py\u001b[0m in \u001b[0;36m<lambda>\u001b[0;34m(f, *a, **k)\u001b[0m\n\u001b[1;32m    186\u001b[0m     \u001b[0;31m# but it's overkill for just that one bit of state.\u001b[0m\u001b[0;34m\u001b[0m\u001b[0;34m\u001b[0m\u001b[0;34m\u001b[0m\u001b[0m\n\u001b[1;32m    187\u001b[0m     \u001b[0;32mdef\u001b[0m \u001b[0mmagic_deco\u001b[0m\u001b[0;34m(\u001b[0m\u001b[0marg\u001b[0m\u001b[0;34m)\u001b[0m\u001b[0;34m:\u001b[0m\u001b[0;34m\u001b[0m\u001b[0;34m\u001b[0m\u001b[0m\n\u001b[0;32m--> 188\u001b[0;31m         \u001b[0mcall\u001b[0m \u001b[0;34m=\u001b[0m \u001b[0;32mlambda\u001b[0m \u001b[0mf\u001b[0m\u001b[0;34m,\u001b[0m \u001b[0;34m*\u001b[0m\u001b[0ma\u001b[0m\u001b[0;34m,\u001b[0m \u001b[0;34m**\u001b[0m\u001b[0mk\u001b[0m\u001b[0;34m:\u001b[0m \u001b[0mf\u001b[0m\u001b[0;34m(\u001b[0m\u001b[0;34m*\u001b[0m\u001b[0ma\u001b[0m\u001b[0;34m,\u001b[0m \u001b[0;34m**\u001b[0m\u001b[0mk\u001b[0m\u001b[0;34m)\u001b[0m\u001b[0;34m\u001b[0m\u001b[0;34m\u001b[0m\u001b[0m\n\u001b[0m\u001b[1;32m    189\u001b[0m \u001b[0;34m\u001b[0m\u001b[0m\n\u001b[1;32m    190\u001b[0m         \u001b[0;32mif\u001b[0m \u001b[0mcallable\u001b[0m\u001b[0;34m(\u001b[0m\u001b[0marg\u001b[0m\u001b[0;34m)\u001b[0m\u001b[0;34m:\u001b[0m\u001b[0;34m\u001b[0m\u001b[0;34m\u001b[0m\u001b[0m\n",
            "\u001b[0;32m/usr/local/lib/python3.6/dist-packages/IPython/core/magics/execution.py\u001b[0m in \u001b[0;36mtime\u001b[0;34m(self, line, cell, local_ns)\u001b[0m\n\u001b[1;32m   1191\u001b[0m         \u001b[0;32melse\u001b[0m\u001b[0;34m:\u001b[0m\u001b[0;34m\u001b[0m\u001b[0;34m\u001b[0m\u001b[0m\n\u001b[1;32m   1192\u001b[0m             \u001b[0mst\u001b[0m \u001b[0;34m=\u001b[0m \u001b[0mclock2\u001b[0m\u001b[0;34m(\u001b[0m\u001b[0;34m)\u001b[0m\u001b[0;34m\u001b[0m\u001b[0;34m\u001b[0m\u001b[0m\n\u001b[0;32m-> 1193\u001b[0;31m             \u001b[0mexec\u001b[0m\u001b[0;34m(\u001b[0m\u001b[0mcode\u001b[0m\u001b[0;34m,\u001b[0m \u001b[0mglob\u001b[0m\u001b[0;34m,\u001b[0m \u001b[0mlocal_ns\u001b[0m\u001b[0;34m)\u001b[0m\u001b[0;34m\u001b[0m\u001b[0;34m\u001b[0m\u001b[0m\n\u001b[0m\u001b[1;32m   1194\u001b[0m             \u001b[0mend\u001b[0m \u001b[0;34m=\u001b[0m \u001b[0mclock2\u001b[0m\u001b[0;34m(\u001b[0m\u001b[0;34m)\u001b[0m\u001b[0;34m\u001b[0m\u001b[0;34m\u001b[0m\u001b[0m\n\u001b[1;32m   1195\u001b[0m             \u001b[0mout\u001b[0m \u001b[0;34m=\u001b[0m \u001b[0;32mNone\u001b[0m\u001b[0;34m\u001b[0m\u001b[0;34m\u001b[0m\u001b[0m\n",
            "\u001b[0;32m<timed exec>\u001b[0m in \u001b[0;36m<module>\u001b[0;34m()\u001b[0m\n",
            "\u001b[0;31mNameError\u001b[0m: name 'namedtuple' is not defined"
          ]
        }
      ]
    },
    {
      "cell_type": "code",
      "metadata": {
        "id": "I7hjnMPxpHNx",
        "colab_type": "code",
        "colab": {}
      },
      "source": [
        "  my_model = nn.Sequential(    \n",
        "             nn.Conv2d(3, 6, kernel_size=(5, 5)),\n",
        "                    \n",
        "             nn.ReLU(),\n",
        "             nn.MaxPool2d(kernel_size=(2, 2), stride=2),\n",
        "             nn.Conv2d(6, 16, kernel_size=(5, 5)),\n",
        "                   \n",
        "             nn.ReLU(),\n",
        "             nn.MaxPool2d(kernel_size=(2, 2), stride=2),\n",
        "             Flattener(),\n",
        "             nn.Linear(16*5*5, 120), \n",
        "             nn.BatchNorm1d(120),\n",
        "             nn.ReLU(), \n",
        "             nn.Linear(120, 84),\n",
        "             nn.BatchNorm1d(84),\n",
        "             nn.ReLU(),\n",
        "             nn.Linear(84, 10),\n",
        "             nn.LogSoftmax(dim=-1)\n",
        "  )\n",
        "my_model.type(torch.cuda.FloatTensor)\n",
        "my_model.to(device)\n",
        "\n",
        "loss = nn.CrossEntropyLoss().type(torch.cuda.FloatTensor)\n",
        "  "
      ],
      "execution_count": 0,
      "outputs": []
    },
    {
      "cell_type": "code",
      "metadata": {
        "id": "BlzuJcFLqN9P",
        "colab_type": "code",
        "outputId": "c3758683-87e6-4d55-a6ff-858eb29dab31",
        "colab": {
          "base_uri": "https://localhost:8080/",
          "height": 656
        }
      },
      "source": [
        "%%time\n",
        "Hyperparams = namedtuple(\"Hyperparams\", ['learning_rate', 'anneal_epoch', 'reg'])\n",
        "RunResult = namedtuple(\"RunResult\", ['model', 'train_history', 'val_history', 'final_val_accuracy'])\n",
        "\n",
        "learning_rates = [ 1e-1]\n",
        "anneal_coeff = 0.2\n",
        "anneal_epochs = [ 5]\n",
        "regs = [1e-3]\n",
        "\n",
        "batch_size = 64\n",
        "epoch_num = 30\n",
        "\n",
        "run_record_my = {} \n",
        "\n",
        "for i1 in range(len(learning_rates)):\n",
        "  for i2 in range(len(anneal_epochs)):\n",
        "    for i3 in range(len(regs)):\n",
        "    \n",
        "      le, an, r = learning_rates[i1], anneal_epochs[i2], regs[i3]\n",
        "      name_hyp=\"Lr:\"+str(learning_rates[i1])+\", Anneal_epochs:\"+str(anneal_epochs[i2])+\", Reg str:\"+str(regs[i3])\n",
        "      \n",
        "      optimizer = optim.SGD(my_model.parameters(), lr=le, weight_decay=r)\n",
        "      \n",
        "      #scheduler = optim.lr_scheduler.StepLR(optimizer, step_size=an, gamma=anneal_coeff)\n",
        "      print(\"Hyperparams: %s\" % (name_hyp))\n",
        "      _, train_history, val_history = train_model(my_model, train_aug_loader, val_loader, loss, optimizer, epoch_num, annel_k=anneal_coeff, annel_epoch=an)\n",
        "      print(\"--------\")\n",
        "      run_record_my[name_hyp]=RunResult(\"my_model\", train_history, val_history, val_history[-1])\n",
        "     "
      ],
      "execution_count": 0,
      "outputs": [
        {
          "output_type": "stream",
          "text": [
            "Hyperparams: Lr:0.1, Anneal_epochs:5, Reg str:0.001\n",
            "Average loss: 0.693762, Train accuracy: 0.782241, Val accuracy: 0.809228\n",
            "Average loss: 0.623646, Train accuracy: 0.805156, Val accuracy: 0.817350\n",
            "Average loss: 0.585554, Train accuracy: 0.816776, Val accuracy: 0.837622\n",
            "Average loss: 0.561600, Train accuracy: 0.824472, Val accuracy: 0.840557\n",
            "Average loss: 0.541667, Train accuracy: 0.831468, Val accuracy: 0.848406\n",
            "Average loss: 0.487635, Train accuracy: 0.850869, Val accuracy: 0.863832\n",
            "Average loss: 0.473641, Train accuracy: 0.853786, Val accuracy: 0.870180\n",
            "Average loss: 0.467004, Train accuracy: 0.856687, Val accuracy: 0.869838\n",
            "Average loss: 0.462883, Train accuracy: 0.858308, Val accuracy: 0.869019\n",
            "Average loss: 0.454099, Train accuracy: 0.860390, Val accuracy: 0.873251\n",
            "Average loss: 0.444888, Train accuracy: 0.863546, Val accuracy: 0.875503\n",
            "Average loss: 0.445809, Train accuracy: 0.863581, Val accuracy: 0.876118\n",
            "Average loss: 0.440813, Train accuracy: 0.864553, Val accuracy: 0.874343\n",
            "Average loss: 0.442660, Train accuracy: 0.863000, Val accuracy: 0.875776\n",
            "Average loss: 0.436668, Train accuracy: 0.866055, Val accuracy: 0.877551\n",
            "Average loss: 0.431961, Train accuracy: 0.867880, Val accuracy: 0.877483\n",
            "Average loss: 0.436646, Train accuracy: 0.866311, Val accuracy: 0.876664\n",
            "Average loss: 0.432556, Train accuracy: 0.866345, Val accuracy: 0.877415\n",
            "Average loss: 0.436932, Train accuracy: 0.865236, Val accuracy: 0.873524\n",
            "Average loss: 0.436249, Train accuracy: 0.865969, Val accuracy: 0.874275\n",
            "Average loss: 0.437890, Train accuracy: 0.865082, Val accuracy: 0.876868\n",
            "Average loss: 0.433378, Train accuracy: 0.866345, Val accuracy: 0.876254\n",
            "Average loss: 0.433513, Train accuracy: 0.868188, Val accuracy: 0.877346\n",
            "Average loss: 0.433540, Train accuracy: 0.866993, Val accuracy: 0.875162\n",
            "Average loss: 0.435174, Train accuracy: 0.866157, Val accuracy: 0.875094\n",
            "Average loss: 0.435381, Train accuracy: 0.866157, Val accuracy: 0.877210\n",
            "Average loss: 0.435081, Train accuracy: 0.866652, Val accuracy: 0.877141\n",
            "Average loss: 0.436465, Train accuracy: 0.866413, Val accuracy: 0.876732\n",
            "Average loss: 0.434966, Train accuracy: 0.866311, Val accuracy: 0.876254\n",
            "Average loss: 0.436348, Train accuracy: 0.865338, Val accuracy: 0.874957\n",
            "--------\n",
            "CPU times: user 18min 47s, sys: 11.6 s, total: 18min 59s\n",
            "Wall time: 19min 1s\n"
          ],
          "name": "stdout"
        }
      ]
    },
    {
      "cell_type": "code",
      "metadata": {
        "colab_type": "code",
        "id": "Y6xExdw8JB1l",
        "outputId": "5ac96917-3203-48dd-ec69-23dd998f5ea3",
        "colab": {
          "base_uri": "https://localhost:8080/",
          "height": 36
        }
      },
      "source": [
        "best_val_accuracy = None\n",
        "best_hyperparams = None\n",
        "best_run = None\n",
        "\n",
        "for hyperparams, run_result in run_record.items():\n",
        "    if best_val_accuracy is None or best_val_accuracy < run_result.final_val_accuracy:\n",
        "        best_val_accuracy = run_result.final_val_accuracy\n",
        "        best_hyperparams = hyperparams\n",
        "        best_run = run_result\n",
        "        \n",
        "print(\"Best validation accuracy: %4.6f, best hyperparams: %s\" % (best_val_accuracy, best_hyperparams))\n",
        "        "
      ],
      "execution_count": 0,
      "outputs": [
        {
          "output_type": "stream",
          "text": [
            "Best validation accuracy: 0.900689, best hyperparams: Lr:0.01, Anneal_epochs:10, Reg str:0.0001\n"
          ],
          "name": "stdout"
        }
      ]
    },
    {
      "cell_type": "code",
      "metadata": {
        "id": "W30vtCVuIhB8",
        "colab_type": "code",
        "outputId": "aafe840b-7ac5-4df3-8887-809cb4f55db2",
        "colab": {
          "base_uri": "https://localhost:8080/",
          "height": 300
        }
      },
      "source": [
        "plt.title(\"Train/validation accuracy\")\n",
        "plt.plot(train_history, label=\"train\")\n",
        "plt.plot(val_history, label=\"validation\")\n",
        "plt.legend()"
      ],
      "execution_count": 0,
      "outputs": [
        {
          "output_type": "execute_result",
          "data": {
            "text/plain": [
              "<matplotlib.legend.Legend at 0x7ff7fcc5a588>"
            ]
          },
          "metadata": {
            "tags": []
          },
          "execution_count": 25
        },
        {
          "output_type": "display_data",
          "data": {
            "image/png": "[encoded data removed]",
            "text/plain": [
              "<Figure size 432x288 with 1 Axes>"
            ]
          },
          "metadata": {
            "tags": []
          }
        }
      ]
    },
    {
      "cell_type": "markdown",
      "metadata": {
        "colab_type": "text",
        "id": "LOmsR0uVgtgf"
      },
      "source": [
        "# Свободное упражнение - догоним и перегоним LeNet!\n",
        "\n",
        "Попробуйте найти архитектуру и настройки тренировки, чтобы выступить лучше наших бейзлайнов.\n",
        "\n",
        "Что можно и нужно попробовать:\n",
        "- BatchNormalization (для convolution layers он в PyTorch называется [batchnorm2d](https://pytorch.org/docs/stable/nn.html#batchnorm2d))\n",
        "- Изменить количество слоев и их толщину\n",
        "- Изменять количество эпох тренировки\n",
        "- Попробовать и другие агментации"
      ]
    },
    {
      "cell_type": "code",
      "metadata": {
        "id": "mblGysh2wttc",
        "colab_type": "code",
        "colab": {}
      },
      "source": [
        "my_model = nn.Sequential(\n",
        "            nn.Conv2d(3, 64, 3, padding=1),\n",
        "            nn.BatchNorm2d(64),\n",
        "            nn.ReLU(inplace=True),\n",
        "            nn.MaxPool2d(4),\n",
        "            nn.Conv2d(64, 128, 3, padding=1),\n",
        "            nn.BatchNorm2d(128),\n",
        "            nn.ReLU(inplace=True),\n",
        "            nn.MaxPool2d(4),    \n",
        "            Flattener(),\n",
        "            nn.Linear(128*2*2, 256),\n",
        "            nn.ReLU(inplace=True),\n",
        "            nn.BatchNorm1d(256),\n",
        "            nn.Linear(256, 100),\n",
        "            nn.ReLU(inplace=True),\n",
        "            nn.BatchNorm1d(100),\n",
        "            nn.Linear(100, 10),\n",
        "            nn.LogSoftmax(dim=-1)\n",
        "          )\n",
        "\n",
        "my_model.type(torch.cuda.FloatTensor)\n",
        "my_model.to(device)\n",
        "\n",
        "loss = nn.CrossEntropyLoss().type(torch.cuda.FloatTensor)"
      ],
      "execution_count": 0,
      "outputs": []
    },
    {
      "cell_type": "code",
      "metadata": {
        "id": "LHnyfkI15rCC",
        "colab_type": "code",
        "outputId": "324b36b7-d076-4238-83e1-8d4e4272905b",
        "colab": {
          "base_uri": "https://localhost:8080/",
          "height": 149
        }
      },
      "source": [
        "%%time\n",
        "Hyperparams = namedtuple(\"Hyperparams\", ['learning_rate', 'anneal_epoch', 'reg'])\n",
        "RunResult = namedtuple(\"RunResult\", ['model', 'train_history', 'val_history', 'final_val_accuracy'])\n",
        "\n",
        "learning_rates = [ 1e-1, 1e-2]\n",
        "anneal_coeff = 0.1\n",
        "anneal_epochs = [5]\n",
        "regs = [ 1e-3, 1e-4]\n",
        "\n",
        "batch_size = 64\n",
        "epoch_num = 20\n",
        "\n",
        "run_record_my = {} \n",
        "\n",
        "for i1 in range(len(learning_rates)):\n",
        "  for i2 in range(len(anneal_epochs)):\n",
        "    for i3 in range(len(regs)):\n",
        "    \n",
        "      le, an, r = learning_rates[i1], anneal_epochs[i2], regs[i3]\n",
        "      name_hyp=\"Lr:\"+str(learning_rates[i1])+\", Anneal_epochs:\"+str(anneal_epochs[i2])+\", Reg str:\"+str(regs[i3])\n",
        "      \n",
        "      optimizer = optim.SGD(my_model.parameters(), lr=le, weight_decay=r)\n",
        "      \n",
        "      #scheduler = optim.lr_scheduler.StepLR(optimizer, step_size=an, gamma=anneal_coeff)\n",
        "      print(\"Hyperparams: %s\" % (name_hyp))\n",
        "      _, train_history, val_history = train_model(my_model, train_aug_loader, val_loader, loss, optimizer, epoch_num, annel_k=anneal_coeff, annel_epoch=an)\n",
        "      print(\"--------\")\n",
        "      run_record_my[name_hyp]=RunResult(\"my_model\", train_history, val_history, val_history[-1])\n",
        "     "
      ],
      "execution_count": 0,
      "outputs": [
        {
          "output_type": "stream",
          "text": [
            "Hyperparams: Lr:0.1, Anneal_epochs:5, Reg str:0.001\n",
            "Average loss: 0.694766, Train accuracy: 0.780278, Val accuracy: 0.726162\n",
            "Average loss: 0.676681, Train accuracy: 0.784612, Val accuracy: 0.771961\n",
            "Average loss: 0.659808, Train accuracy: 0.788435, Val accuracy: 0.795782\n",
            "Average loss: 0.651085, Train accuracy: 0.794151, Val accuracy: 0.781380\n",
            "Average loss: 0.641753, Train accuracy: 0.796813, Val accuracy: 0.776602\n",
            "Average loss: 0.585603, Train accuracy: 0.815138, Val accuracy: 0.823630\n"
          ],
          "name": "stdout"
        }
      ]
    },
    {
      "cell_type": "code",
      "metadata": {
        "id": "EV8niGli7P8X",
        "colab_type": "code",
        "outputId": "af45a1ec-ba99-4544-e37e-054116e5882d",
        "colab": {
          "base_uri": "https://localhost:8080/",
          "height": 36
        }
      },
      "source": [
        "best_val_accuracy = None\n",
        "best_hyperparams = None\n",
        "best_run = None\n",
        "\n",
        "for hyperparams, run_result in run_record_my.items():\n",
        "    if best_val_accuracy is None or best_val_accuracy < run_result.final_val_accuracy:\n",
        "        best_val_accuracy = run_result.final_val_accuracy\n",
        "        best_hyperparams = hyperparams\n",
        "        best_run = run_result\n",
        "        \n",
        "print(\"Best validation accuracy: %4.6f, best hyperparams: %s\" % (best_val_accuracy, best_hyperparams))\n",
        "        "
      ],
      "execution_count": 0,
      "outputs": [
        {
          "output_type": "stream",
          "text": [
            "Best validation accuracy: 0.889769, best hyperparams: Lr:0.1, Anneal_epochs:10, Reg str:1e-05\n"
          ],
          "name": "stdout"
        }
      ]
    },
    {
      "cell_type": "code",
      "metadata": {
        "colab_type": "code",
        "id": "tSVhD747icoc",
        "colab": {}
      },
      "source": [
        "best_model = my_model"
      ],
      "execution_count": 0,
      "outputs": []
    },
    {
      "cell_type": "markdown",
      "metadata": {
        "colab_type": "text",
        "id": "ubeKgBcnhx7N"
      },
      "source": [
        "# Финальный аккорд - проверим лучшую модель на test set\n",
        "\n",
        "В качестве разнообразия - напишите код для прогона модели на test set вы.\n",
        "\n",
        "В результате вы должны натренировать модель, которая покажет более **90%** точности на test set.  \n",
        "Как водится, лучший результат в группе получит дополнительные баллы!"
      ]
    },
    {
      "cell_type": "code",
      "metadata": {
        "id": "ZtKHM-Cta0DS",
        "colab_type": "code",
        "colab": {}
      },
      "source": [
        "train_loader = torch.utils.data.DataLoader(data_test, batch_size=batch_size, \n",
        "                                           sampler=train_sampler)"
      ],
      "execution_count": 0,
      "outputs": []
    },
    {
      "cell_type": "code",
      "metadata": {
        "id": "FQ_NWRG-bFbF",
        "colab_type": "code",
        "colab": {}
      },
      "source": [
        "tfs = transforms.Compose([\n",
        "    # TODO: Add good augmentations\n",
        "    transforms.ColorJitter(hue=.50, saturation=.50),\n",
        "    transforms.RandomRotation(50, resample=PIL.Image.BILINEAR),\n",
        "    transforms.Resize((32, 32)),\n",
        "    transforms.ToTensor(),\n",
        "    transforms.Normalize(mean=[0.43,0.44,0.47],\n",
        "                        std=[0.20,0.20,0.20])\n",
        "                        ])\n",
        "data_aug_train = dset.SVHN('./', \n",
        "                       transform=tfs\n",
        "                      )\n",
        "\n",
        "train_aug_loader = torch.utils.data.DataLoader(data_aug_train, batch_size=batch_size, \n",
        "                                           sampler=train_sampler)"
      ],
      "execution_count": 0,
      "outputs": []
    },
    {
      "cell_type": "code",
      "metadata": {
        "id": "gqLPrbyoZSKA",
        "colab_type": "code",
        "outputId": "ab0f8223-2b6e-444d-c1f3-4eed4a53c69a",
        "colab": {
          "base_uri": "https://localhost:8080/",
          "height": 581
        }
      },
      "source": [
        "optimizer = optim.SGD(my_model.parameters(), lr=0.01, weight_decay=1e-05)      \n",
        "_, train_history, val_history = train_model(my_model, train_aug_loader, val_loader, loss, optimizer, 30)"
      ],
      "execution_count": 0,
      "outputs": [
        {
          "output_type": "stream",
          "text": [
            "Average loss: 0.350281, Train accuracy: 0.891735, Val accuracy: 0.889018\n",
            "Average loss: 0.349221, Train accuracy: 0.890660, Val accuracy: 0.888267\n",
            "Average loss: 0.347792, Train accuracy: 0.892025, Val accuracy: 0.887038\n",
            "Average loss: 0.350111, Train accuracy: 0.890796, Val accuracy: 0.887175\n",
            "Average loss: 0.348898, Train accuracy: 0.891052, Val accuracy: 0.889496\n",
            "Average loss: 0.346053, Train accuracy: 0.891530, Val accuracy: 0.889427\n",
            "Average loss: 0.346890, Train accuracy: 0.892212, Val accuracy: 0.887584\n",
            "Average loss: 0.349034, Train accuracy: 0.891956, Val accuracy: 0.889427\n",
            "Average loss: 0.346305, Train accuracy: 0.891769, Val accuracy: 0.888267\n",
            "Average loss: 0.349126, Train accuracy: 0.891718, Val accuracy: 0.885264\n",
            "Average loss: 0.346920, Train accuracy: 0.891837, Val accuracy: 0.888950\n",
            "Average loss: 0.345929, Train accuracy: 0.893236, Val accuracy: 0.888608\n",
            "Average loss: 0.347058, Train accuracy: 0.893919, Val accuracy: 0.888881\n",
            "Average loss: 0.345387, Train accuracy: 0.892861, Val accuracy: 0.888540\n",
            "Average loss: 0.348216, Train accuracy: 0.892451, Val accuracy: 0.889427\n",
            "Average loss: 0.344463, Train accuracy: 0.893048, Val accuracy: 0.887516\n",
            "Average loss: 0.346119, Train accuracy: 0.892110, Val accuracy: 0.889291\n",
            "Average loss: 0.345686, Train accuracy: 0.892810, Val accuracy: 0.887038\n",
            "Average loss: 0.346393, Train accuracy: 0.892144, Val accuracy: 0.888881\n",
            "Average loss: 0.345101, Train accuracy: 0.893560, Val accuracy: 0.887721\n",
            "Average loss: 0.344803, Train accuracy: 0.892793, Val accuracy: 0.889769\n",
            "Average loss: 0.344802, Train accuracy: 0.893441, Val accuracy: 0.890178\n",
            "Average loss: 0.344674, Train accuracy: 0.892212, Val accuracy: 0.889564\n",
            "Average loss: 0.342175, Train accuracy: 0.892997, Val accuracy: 0.888131\n",
            "Average loss: 0.346227, Train accuracy: 0.893475, Val accuracy: 0.885127\n",
            "Average loss: 0.341048, Train accuracy: 0.893714, Val accuracy: 0.888950\n",
            "Average loss: 0.343477, Train accuracy: 0.893287, Val accuracy: 0.888540\n",
            "Average loss: 0.343884, Train accuracy: 0.893526, Val accuracy: 0.889154\n",
            "Average loss: 0.341793, Train accuracy: 0.894414, Val accuracy: 0.888267\n",
            "Average loss: 0.343440, Train accuracy: 0.893356, Val accuracy: 0.889496\n"
          ],
          "name": "stdout"
        }
      ]
    },
    {
      "cell_type": "code",
      "metadata": {
        "colab_type": "code",
        "id": "EIqM1kdeh-hd",
        "outputId": "a3ddf354-3962-4c01-cf30-4f733c1f3e69",
        "colab": {
          "base_uri": "https://localhost:8080/",
          "height": 194
        }
      },
      "source": [
        "# TODO Write the code to compute accuracy on test set\n",
        "final_test_accuracy = compute_accuracy(best_model, train_loader)\n",
        "print(\"Final test accuracy - \", final_test_accuracy)"
      ],
      "execution_count": 0,
      "outputs": [
        {
          "output_type": "error",
          "ename": "NameError",
          "evalue": "ignored",
          "traceback": [
            "\u001b[0;31m---------------------------------------------------------------------------\u001b[0m",
            "\u001b[0;31mNameError\u001b[0m                                 Traceback (most recent call last)",
            "\u001b[0;32m<ipython-input-1-0e42707c940a>\u001b[0m in \u001b[0;36m<module>\u001b[0;34m()\u001b[0m\n\u001b[0;32m----> 1\u001b[0;31m \u001b[0mfinal_test_accuracy\u001b[0m \u001b[0;34m=\u001b[0m \u001b[0mval_history\u001b[0m\u001b[0;34m[\u001b[0m\u001b[0;34m-\u001b[0m\u001b[0;36m1\u001b[0m\u001b[0;34m]\u001b[0m\u001b[0;34m\u001b[0m\u001b[0;34m\u001b[0m\u001b[0m\n\u001b[0m\u001b[1;32m      2\u001b[0m \u001b[0mprint\u001b[0m\u001b[0;34m(\u001b[0m\u001b[0;34m\"Final test accuracy - \"\u001b[0m\u001b[0;34m,\u001b[0m \u001b[0mfinal_test_accuracy\u001b[0m\u001b[0;34m)\u001b[0m\u001b[0;34m\u001b[0m\u001b[0;34m\u001b[0m\u001b[0m\n",
            "\u001b[0;31mNameError\u001b[0m: name 'val_history' is not defined"
          ]
        }
      ]
    },
    {
      "cell_type": "code",
      "metadata": {
        "colab_type": "code",
        "id": "BfH6qip6kVX_",
        "colab": {}
      },
      "source": [
        ""
      ],
      "execution_count": 0,
      "outputs": []
    }
  ]
}